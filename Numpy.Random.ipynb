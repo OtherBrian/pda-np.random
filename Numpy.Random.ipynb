{
 "cells": [
  {
   "cell_type": "markdown",
   "metadata": {},
   "source": [
    "# Numpy.Random\n",
    "\n",
    "## Assignment Details\n",
    "\n",
    "Problem statement\n",
    "The following assignment concerns the numpy.random package in Python. You are\n",
    "required to create a Jupyter notebook explaining the use of the package, including\n",
    "detailed explanations of at least five of the distributions provided for in the package.\n",
    "There are four distinct tasks to be carried out in your Jupyter notebook.\n",
    "1. Explain the overall purpose of the package.\n",
    "2. Explain the use of the “Simple random data” and “Permutations” functions.\n",
    "3. Explain the use and purpose of at least five “Distributions” functions.\n",
    "4. Explain the use of seeds in generating pseudorandom numbers."
   ]
  },
  {
   "cell_type": "code",
   "execution_count": 2,
   "metadata": {},
   "outputs": [
    {
     "data": {
      "text/plain": [
       "'1.19.2'"
      ]
     },
     "execution_count": 2,
     "metadata": {},
     "output_type": "execute_result"
    }
   ],
   "source": [
    "import numpy as np\n",
    "np.__version__"
   ]
  },
  {
   "cell_type": "markdown",
   "metadata": {},
   "source": [
    "# What is Numpy?\n",
    "\n",
    "Numpy is a Python package that is focused around mathemetical functions and related use cases in Python. It introduces  N-Dimensional Arrays (ndarray) to Python, which can store large amounts of data of the same data type (e.g. string, integer, float), and allows the data to be stored in various \"shapes\" (i.e. different dimensions). Alongside the ndarray data type, NumPy is heralded for its speed and ease of use, especially across larger and larger data sets.[1] \n",
    "\n",
    "Numpy is not the only package that brings arrays to Python, nor was it even the first, as it replaced Numarray and Numeric, however it is the most widely adopted of these packages. The package is so popular, it now forms the foundation of other popular data science packages and datatypes, such as the Pandas DataFrame[2], and has thus further cemented itself into the Python data science ecosystem.\n",
    "\n",
    "### Regarding Numpy Version\n",
    "\n",
    "Throughout this assignment, I will be referring to the syntax used in the current stable version of Numpy(v1.19). This latest version of Numpy brought with it a range of changes, most notably in the algorithm used to generated pseudorandom numbers (covered in detail below), and in the syntax used for accessing the various functions in the Numpy.Random package.\n",
    "\n",
    "## Arrays\n",
    "\n",
    "Arrays are a list like data type that can only contain one data type within it. This means that a list of mixed data types, e.g. [14, 4.21, 'Hello'] could not be an array. Numpy also makes it easier to map multiple arrays together to create n-dimensional arrays, for example the X and Y variables of observations, and this opens the door for easier analysis and plotting. It's therefore very common for a dataset to be turned into a Numpy array before plotting, either directly via NumPy specific functions, or indirectly via other packages such as Pandas (which is built on top of NumPy)."
   ]
  },
  {
   "cell_type": "markdown",
   "metadata": {},
   "source": [
    "# Numpy.Random\n",
    "\n",
    "Another major component of Numpy, and the main topic of this Jupyter Notebook, is its ability to generate psuedorandom data for a wide range of use cases. While Numpy is not the only pseudorandom number generator available in Python, it is one of the most popular for scientific use cases, as it can utilized the ndarray data type to generate the numbers more quickly than other packages. For example, the random.random package in the Python Standard Library can only generate one number at a time, and so creating a large dataset via this package is many times slower than it would be when using Numpy.Random[3]. \n",
    "\n",
    "## Common Pseudorandom Use Cases\n",
    "\n",
    "### Generating a dummy data set\n",
    "\n",
    "There are times when the user cannot use real world data for their study and analysis, perhaps due to that data not yet being collected or available to them, or perhaps the user simply needs to develop and test an analysis on a generic set of data before going into the real world. In these situations, these users can turn to Numpy.Random to create a dummy set of pseudorandom data, and can even specify the distribution that they wish to work from (e.g. Normal distribution, or Exponential distribution). By mirroring the distribution that the user expects to see in the real world, they can confidently develop their algorithms and analysis techniques ahead of time, so that once the real world data is collected it can replace the dummy data set. Similarly if a user is already analysis an existing data set and needs to compare it to known distributions, they can generate such a distribution within their paramters quickly and easy, and then the two data sets via summary statistics or plotting.\n",
    "\n",
    "Likewise students and teachers can utilise these dummy data sets for the purposes of education, as it only takes one line of code to generate a dummy data set of thousands of pseudorandom observations. This means that users are not restricted by the datasets they have access to, and can create any data set to meet their educational needs. \n",
    "\n",
    "### Selecting samples or permutations from an existing dataset\n",
    "\n",
    "While many of the functions in Numpy.Random are concentrated on generating pseudorandom integers or floats, there are also three functions deisgned to affect existing datasets; numpy.random.Generator.choice[4], numpy.random.Generator.shuffle[5] and numpy.random.Generator.permutation[6]. \n",
    "* Choice will select a user determined amount of data points from a given ndarray and return them into a new array. This allows the user to analyse or determine descriptive statistics from the random sample, rather than the population as a whole. This can be useful for methodoligies such as bootstrapping, whereby a large number of random samples are taken from a population in order to simulate a larger collection of data[7].\n",
    "* Shuffle and Permutation will change the order of the exist ndarray (either in place via Shuffle, or as a new object via Permutation), and thus give the ndarray a pseudorandom order for further analysis.\n",
    "\n",
    "### Generating keys for software and security\n",
    "\n",
    "Another crucial use case for pseudorandom numbers is to create secret keys and such for software development. In such cases, it is critical that an outside observer cannot work out the sequence of numbers, as that could comprimse the security of the software. It is in this area that we've seen recent changes to the pseudorandom number generator used by Numpy.Random, as it's moved from the Mersenne Twiser (MT19937) algorithm to more recent PCG-XSL-RR 128/64 algorithm[8][9]."
   ]
  },
  {
   "cell_type": "markdown",
   "metadata": {},
   "source": [
    "## What are Psuerandom number generators?\n",
    "\n",
    "Pseudorandom number generators are algorithms that generate numbers that appear random. As suggested by the name, these numbers are not truly random, but are intended to appear as close to random as possible. It is impossible for a computer to generate truly random numbers, as computers are fully deterministic. This means that when they are given the same input and the same algorithm, they will provide the same output[10]. In the case of pseuorandom number generators, the initial input is called the \"seed\", and this will be the first value put into the algorithm in order to generate the pseudorandom sequence.\n",
    "\n",
    "As these sequences cannot be truly random, it is therefore crucial that pseudorandom number generators appear as random as possible so that their patterns, and especially the initial seed value, cannot be easily detected. As a result of this, the research environment for creating new, and testing existing, pseudorandom number generators is an important one for modern computing. Since 2007, the TestU01 library[11] has set the standard for how to test pseudorandom number generators, and it is the results of this library that has meant Numpy.Random adopting a new algorithm recently. \n",
    "\n",
    "### Why move from Mersenne Twister (MT19937)  to Permuted Congruential Generator (PCG64)\n",
    "\n",
    "Up until Numpy v1.19, the random functions in Numpy were utilising the Mersenne Twister (MT19937) to generate its pseudorandom number sequences. However, as highlighted in the paper \"TestU01: A C Library for Empirical Testing of\n",
    "Random Number Generators\"[11], MT19937 (and other algorithms) actually performed quite poorly on statistical tests. This meant that there was a higher amount of predictability to the pseudorandom number sequences generated by this algorithm, and therefore there was the potential for someone to work out what the seed was, or what the next sequence would be. This has dire consequences for areas such as security, as knowing the sequence can compromise the software involved. \n",
    "\n",
    "Meanwhile, MT19937 was also found to be slower than some of the best available algorithms, as highlighted in the below graph from \"PCG: A Family of Simple Fast Space-Efficient Statistically Good Algorithms for Random Number Generation\"[12]\n",
    "\n",
    "![here](https://screenshot.click/10_59-rnq8v-9kz2a.jpg)\n",
    "\n",
    "Here we can see that not only are the Mersenne Twister algorithms slower than others (as showned by their low gbit/s speed), they're also highlighted red to show that they are deemed insecure. This insecurity is due to the fact that TestU01's “linear complexity” test was able to spot nonrandom behaviour within 5 seconds. This is contrast to some of the more robust tests in the TestU01 library which can take hours or even days to run. Therefore MT19937 fell down at one of the earliest challenges put to it by TestU01[12].\n",
    "\n",
    "As a result, Numpy has now adopted the PCG XSL RR 128/64 algorithm, which was first introduced in the above mentioned paper[12]. This algorithm has been found to be a lot more statisically robust than MT19937, while also being faster. This particular PCG64 algorithm makes for a strong all-rounder for Numpy, as summarised by the paper's author - \"It should be used when a fast general-purpose generator is needed but enhanced security would also be desirable.\"[12]\n",
    "\n",
    "Although Numpy recommend using PCG64, users can still access the MT19937 if they so choose by passing it as an argument to the Generator function. As shown in this example from Numpy's documentation[8]:\n",
    "```\n",
    "from numpy.random import Generator, MT19937\n",
    "rg = Generator(MT19937(12345))\n",
    "rg.random()\n",
    "```"
   ]
  },
  {
   "cell_type": "markdown",
   "metadata": {},
   "source": [
    "## Seeds and pseudorandom numbers\n",
    "\n",
    "As mentioned before, pseudorandom number generators are called pseudorandom because a computer cannot generate a truly random number or sequence. It is through the use of algorithms like MT19937 and PCG64 that sequences are generated to appear as close to random as possible, and in order for these algorithms to work they need a starting value. This value is known as a \"seed\", and is the starting point for the algorithm. Were someone to estimate the seed, they could replicate the entire sequence perfectly. This can be dangerous in security use cases, and is the reason why testing these algorithms is so important to computing. However, in other use cases, having a consistent and known seed can be very useful for testing and replicating code and analyses, and for ensuring that others do get the same results, such as in classroom environments.\n",
    "\n",
    "### How does Numpy.Random determine the \"seed\"?\n",
    "\n",
    "When using Numpy.Random the user can either explicitly specify a value to be used as the seed, or allow Numpy to find one to use itself. In the event that no seed is explicitly specified, Numpy will make use of the entropy on the operating system (OS).[13] Entropy is a source of pseudorandom number generation found within operating systems, and the inputs that create entropy are varied, for example the timing of mouse clicks from the user can influence the value of the entropy.[14]\n",
    "\n",
    "Alternatively, the user can explicitly specify the seed manually. This allows them to ensure that their results are reproducable, and has a number of use cases. For example, if someone is creating plots based on a pseudorandom sample, they may want to keep the data consistent while they tweak the formatting of the plots, thus allowing them to concentrate on one area, without having to react to another. Similarly if the user is looking to fit a machine learning algorithm to this data, and wants to see the impact of changing various parameters, it'll help to keep a consistent data set while they do so. \n",
    "\n",
    "Another strong use case for explicitly specifying is for teaching and workshops[15]. The instructor can go through the steps of a given process with students at the same time, and as the students can specify the same seed as the instructor, it means that their results should match exactly. This ensures that any inconsistencies between the student's outputs and the teacher's are a result of other functions or methods that have been performed on that dataset, and not changes in the dataset itself. Were the seed not manually specified, each time the sample is taken it would change, thus increasing the chances that the instructor and the students output will look different as a result of the sample itself. This use case will also be beneficial for colleagues working together, as they too can ensure they are singing from the same hymm sheet, so to speak.\n",
    "\n",
    "\n",
    "### Seeding in MT19937 Vs PCG64\n",
    "\n",
    "While the speed and statistical robustness of PCG64 is already a strange case for Numpy to move away from the MT19937 algorithm, there's also benefits in how PCG64 utilises seeds.\n",
    "\n",
    "MT19937 has a couple of glaring weaknesses with regards to how it utilised seeds. Most notably, the algorithm would struggle to maintain statistical robustness if the seed contained too many 0s, and that two similar seeds would generate very similar sequences of pseudorandom numbers[16]. In contrast, PCG64 takes steps to alter the seeds immediately, with a high chance that two adjacent integer values would immediately be altered to be very far away from each other, and so would produce very different sequences of numbers[16]. This reduces the possibility of user generated seeds being stumbled upon, as unlike the MT19937 seeds, for PCG64 the user would have to specify the exact same seed to get results anywhere close to the initial seed."
   ]
  },
  {
   "cell_type": "markdown",
   "metadata": {},
   "source": [
    "### Seeding Syntax\n",
    "\n",
    "In prior versions of Numpy, the seed would be specified with the following command[17], in which the parameter is the seed value:\n",
    "```\n",
    "numpy.random.seed()\n",
    "```\n",
    "For example, if I wanted the seed to be 33, I would simply enter:\n",
    "```\n",
    "numpy.random.seed(33)\n",
    "```\n",
    "However since version Numpy version 1.19 and the change to the PCG64 algorithm, we first first create a random number generator (rng) container, and it's here that we can specify the seed. For example, if we wish to let Numpy use our operating system's entropy to determine the seed, we'd create the rng container with the following line[18]:\n",
    "```\n",
    "rng = default_rng()\n",
    "```\n",
    "Whereas if we wish to specify a seed, we'd simply add that value as a parameter, for example:\n",
    "```\n",
    "default_rng(33)\n",
    "```\n",
    "Similarly, if we wish to use the MT19937 algorithm, we'd hae to use the Generator container rather than the default_rng container, and set MT19937 as a parameter. Similary if we wish to specify a seed for MT19937, we could do so by passing it as a parameter to MT19937 as shown previously:\n",
    "\n",
    "from numpy.random import Generator, MT19937 rg = Generator(MT19937(12345)) rg.random()\n",
    "\n",
    "\n",
    "### Comparison of specifying a seed Vs utilising entropy.\n",
    "\n",
    "As described above, expliticly specifying a seed for the pseudorandom number generator ensures that the sequence follows the same pattern each time. Meanwhile if we do set a seed, Numpy will utilise the entropy of the operating system each time the generator is run, and as such the values will change each time.\n",
    "\n",
    "Let's see a couple of examples.\n",
    "\n",
    "First, I won't explicitly set a seed. For this, I'll as Numpy.random to generate 10 integers from 0 up to but not including 10. This syntax for which is[19]:\n",
    "```\n",
    "rng.integers(start, end, size)\n",
    "```\n",
    "Each time we run this code, it will generate a different sequence of 10 integers up to but not including 10 (i.e. 0-9). You can run the code in the below cell by clicking onto the cell and pressing ctrl+enter on your keyboard. Try it a few times, you'll see the sequence changes each time."
   ]
  },
  {
   "cell_type": "code",
   "execution_count": 2,
   "metadata": {},
   "outputs": [
    {
     "data": {
      "text/plain": [
       "array([9, 5, 6, 8, 2, 1, 0, 0, 4, 1])"
      ]
     },
     "execution_count": 2,
     "metadata": {},
     "output_type": "execute_result"
    }
   ],
   "source": [
    "import numpy as np\n",
    "from numpy.random import default_rng\n",
    "rng = default_rng()\n",
    "sample = rng.integers(0,10,10)\n",
    "sample"
   ]
  },
  {
   "cell_type": "markdown",
   "metadata": {},
   "source": [
    "This is perfect if I need a totally different sequence each time, however if I am looking for a consistent set of pseuorandom values, I must explicitly specify a seed. As mentioned above, this is done by adding an integer as a paramter when we create the rng container. For example:\n",
    "```\n",
    "default_rng(33)\n",
    "```\n",
    "Once again, run the code in the below cell multiple times, and you'll see the output remains the same each and every time:\n",
    "```\n",
    "array([8, 4, 3, 5, 8, 9, 2, 2, 5, 5])\n",
    "```"
   ]
  },
  {
   "cell_type": "code",
   "execution_count": 3,
   "metadata": {},
   "outputs": [
    {
     "data": {
      "text/plain": [
       "array([8, 4, 3, 5, 8, 9, 2, 2, 5, 5])"
      ]
     },
     "execution_count": 3,
     "metadata": {},
     "output_type": "execute_result"
    }
   ],
   "source": [
    "rng = default_rng(33)\n",
    "sample = rng.integers(0,10,10)\n",
    "sample"
   ]
  },
  {
   "cell_type": "markdown",
   "metadata": {},
   "source": [
    "No matter who runs that code, on whichever device, as long as it has the same seed specified (in this case 33), they will get that same sequence of numbers. I can then ensure that my colleagues, classmates or students are using the same dataset as I am. Therefore any inconsistencies in our results will be caused by another element of our analysis, not by changes in the dataset.\n",
    "\n",
    "I will continue using this seed through the rest of this assignment so that my results are replicable."
   ]
  },
  {
   "cell_type": "markdown",
   "metadata": {},
   "source": [
    "# Numpy.Random Generator Functions\n",
    "\n",
    "With the algorithm discussed, and the seed set, we can now discuss the various functions available via the pseudorandom number generator. These functions come in three distinct types, each with their own use cases; Simple Random Data, Permutations and Distributions.\n",
    "\n",
    "## Simple Random Data\n",
    "\n",
    "Simple Random Data, as the name suggests, are a set of functions which will create a random data set or sample for the user. Depending on the users needs, they can either create a sequence of new integers, floats, bytes or generate a random sample from an existing array.  \n",
    "\n",
    "### Integers\n",
    "\n",
    "The Integers function (as seen above) generates one or more integers from a uniform distribution. This means that all of the integers within the specified range have the same probability of being selected. This would be similar to rolling a fair die, where there's an equal chance of it landing on any of the faces. Let's take a closer look at the syntax[19]. \n",
    "```\n",
    "Generator.integers(low, high=None, size=None, dtype=np.int64, endpoint=False)\n",
    "```\n",
    "Here we can see that the the only required parameter is \"low\". This is because, if only one paramter is passed, the function will use 0 as the \"low\" value, and the stated paramter as the \"high\" value.\n",
    "\n",
    "For example, these two functions would behave the same."
   ]
  },
  {
   "cell_type": "code",
   "execution_count": 18,
   "metadata": {},
   "outputs": [
    {
     "name": "stdout",
     "output_type": "stream",
     "text": [
      "Example 1:\n",
      "2\n",
      "\n",
      "Example 2:\n",
      "1\n"
     ]
    }
   ],
   "source": [
    "rng = default_rng(33)\n",
    "example1 = rng.integers(0, 3)\n",
    "example2 = rng.integers(3)\n",
    "\n",
    "print('Example 1:')\n",
    "print(example1)\n",
    "print('\\nExample 2:')\n",
    "print(example2)"
   ]
  },
  {
   "cell_type": "markdown",
   "metadata": {},
   "source": [
    "Size will determine how many values the user wants returned. If this parameter isn't specified, then only 1 value will be generated, as shown in the two above examples. If the user wants a multidimensional array, they can specify a tuple of values for this parameter. In the below examples, I generate a one dimensional array by passing an integer (3) as the shape. I then generate a 2 dimension array by passing a tuple with two values (3,3), and three dimensional array by passing a tuple of 3 values (3, 3, 3)."
   ]
  },
  {
   "cell_type": "code",
   "execution_count": 19,
   "metadata": {},
   "outputs": [
    {
     "name": "stdout",
     "output_type": "stream",
     "text": [
      "Example 3:\n",
      "[2 1 1]\n",
      "\n",
      "Example 4\n",
      "[[1 2 2]\n",
      " [0 0 1]\n",
      " [1 0 1]]\n",
      "\n",
      "Example 5:\n",
      "[[[2 2 2]\n",
      "  [1 1 0]\n",
      "  [2 1 1]]\n",
      "\n",
      " [[0 1 0]\n",
      "  [0 0 2]\n",
      "  [1 0 0]]\n",
      "\n",
      " [[2 2 0]\n",
      "  [2 1 0]\n",
      "  [0 1 2]]]\n"
     ]
    }
   ],
   "source": [
    "rng = default_rng(33)\n",
    "example3 = rng.integers(0, 3, 3)\n",
    "example4 = rng.integers(0, 3, (3, 3))\n",
    "example5 = rng.integers(0, 3, (3, 3, 3))\n",
    "\n",
    "print('Example 3:')\n",
    "print(example3)\n",
    "\n",
    "print('\\nExample 4')\n",
    "print(example4)\n",
    "\n",
    "print('\\nExample 5:')\n",
    "print(example5)"
   ]
  },
  {
   "cell_type": "markdown",
   "metadata": {},
   "source": [
    "The dtype paramater allows us to specify which datatype we would like the numbers to be returned as, with dtype=np.int64 as the default. As list of Numpy data types can be found [here](https://numpy.org/doc/stable/user/basics.types.html) although it should be noted that the integers function will not allow for floats, as floats have their own specific function.\n",
    "\n",
    "Finally, the \"endpoint\" parameter, which defaults to False, determines whether or not the \"high\" value is included in the range of integers generated. As we can see in my examples above, even though 3 is set as the \"high\" value, we only see 0, 1, and 2 generated. If we were to set the \"endpoint\" to True, then 3s would be generated as well. "
   ]
  },
  {
   "cell_type": "code",
   "execution_count": 20,
   "metadata": {},
   "outputs": [
    {
     "name": "stdout",
     "output_type": "stream",
     "text": [
      "Example 6:\n",
      "[[2 1 1]\n",
      " [1 2 2]\n",
      " [0 0 1]]\n",
      "\n",
      "Example 7:\n",
      "[[2 1 1]\n",
      " [3 3 3]\n",
      " [2 1 0]]\n"
     ]
    }
   ],
   "source": [
    "rng = default_rng(33)\n",
    "example6 = rng.integers(0, 3, (3, 3))\n",
    "example7 = rng.integers(0, 3, (3, 3), endpoint=True)\n",
    "\n",
    "print('Example 6:')\n",
    "print(example6)\n",
    "print('\\nExample 7:')\n",
    "print(example7)"
   ]
  },
  {
   "cell_type": "markdown",
   "metadata": {},
   "source": [
    "### Random (floats)\n",
    "\n",
    "While the Integers functions will of course generate intergers, the random function can be used to generate floating point numbers (floats). Likewise, the numbers generated will be from a uniform distribution, however in this case they are continuous (i.e. not limited to integers). The syntax for Random is as follows[20]:\n",
    "```\n",
    "Generator.random(size=None, dtype=np.float64, out=None)\n",
    "```\n",
    "Here the size and dtype parameters act just the same as for the Integers function, so I will not cover these again. The \"out\" parameter allows the user to specify an array in which the results will be saved to. If the user has specified the \"size\" parameter, then the target array must match the size and datatype passed in the Random function."
   ]
  },
  {
   "cell_type": "code",
   "execution_count": 21,
   "metadata": {},
   "outputs": [
    {
     "name": "stdout",
     "output_type": "stream",
     "text": [
      "Example 1 (original):\n",
      "[0. 0. 0.]\n",
      "\n",
      "Example 1 (with Random output added):\n",
      "[0.44364224 0.56849119 0.90810377]\n"
     ]
    }
   ],
   "source": [
    "rng = default_rng(33)\n",
    "\n",
    "# Generating a blank array of zeroes to use for the \"out\" parameter.\n",
    "example1 = np.zeros(shape = 3, dtype = 'float')\n",
    "print('Example 1 (original):')\n",
    "print(example1)\n",
    "rng.random(size = 3, out = example1)\n",
    "print('\\nExample 1 (with Random output added):')\n",
    "print(example1)\n"
   ]
  },
  {
   "cell_type": "markdown",
   "metadata": {},
   "source": [
    "Unlike Integers, where the user can specify a \"low\" and \"high\" value for the numbers to be generated from, the floats generated by the Random function will always be between 0 and 1. In the event that someone does need to generate floats in a different range, they can combine this function with another to create their desired outcome. For example, I can combine the Integers and Random functions to create floats between 0 and 2.999 recurring, as shown below."
   ]
  },
  {
   "cell_type": "code",
   "execution_count": 22,
   "metadata": {},
   "outputs": [
    {
     "name": "stdout",
     "output_type": "stream",
     "text": [
      "Example 2: \n",
      "[2.90810377 1.25424955 1.58878127]\n"
     ]
    }
   ],
   "source": [
    "rng = default_rng(33)\n",
    "\n",
    "example2 = rng.integers(0, 3, 3) + rng.random(3)\n",
    "print('Example 2: ')\n",
    "print(example2)"
   ]
  },
  {
   "cell_type": "markdown",
   "metadata": {},
   "source": [
    "### Bytes\n",
    "\n",
    "The bytes function will generate pseudorandom bytes, and only has the one parameter - \"length\", as seen in the syntax[21]:\n",
    "```\n",
    "Generator.bytes(length)\n",
    "```\n",
    "Here \"length\" will determine the number of bytes generated. You can see examples of different lengths in the cell below:"
   ]
  },
  {
   "cell_type": "code",
   "execution_count": 23,
   "metadata": {},
   "outputs": [
    {
     "name": "stdout",
     "output_type": "stream",
     "text": [
      "Example 1:\n",
      "b'\\x17\\x10\\x02\\xe1\\xa2'\n",
      "\n",
      "Example 2:\n",
      "b'7\\x9dIa\\x85\\xa3\\x88\\x91\\xd3\\x82\\xb3\\xd4.}y\\xe8'\n"
     ]
    }
   ],
   "source": [
    "rng = default_rng(33)\n",
    "\n",
    "example1 = rng.bytes(5)\n",
    "print('Example 1:')\n",
    "print(example1)\n",
    "example2 = rng.bytes(16)\n",
    "print('\\nExample 2:')\n",
    "print(example2)"
   ]
  },
  {
   "cell_type": "markdown",
   "metadata": {},
   "source": [
    "### Choice\n",
    "\n",
    "Whereas Integers, Random and Bytes will generate brand new data for the user, Choice will make a pseudorandom selection of data points from an existing array. For example, if I've measured the heights of the population of Loughrea, County Galway (5556 people as of 2016), I may want to break this up into smaller samples for further analyses or bootstrapping. In this case, I could use the Choice function to generate pseudorandom of 50 or 100 out of that total population of 5556.\n",
    "\n",
    "The syntax for Choice is as follows[22]:\n",
    "```\n",
    "Generator.choice(a, size=None, replace=True, p=None, axis=0, shuffle=True)\n",
    "```\n",
    "With the exception of \"size\" parameter, the parameters for the Choice function are quite different to other Simple Random Data functions. \n",
    "\"a\" is the only required parameter, and this is because it is the array (hence \"a\") which the choices will be made from. \n",
    "The \"size\" parameter then determines how many choices are made from that array, and what shape the result should take via the same syntax that for Integers and Random. If \"size\" is not specified, it will return just the 1 element.\n",
    "When taking this sample from the initial array, the Choice function will default to \"True\". This means that once a particular element is chosen, it is then replaced so that it may be chosen again. When replace is set to \"False\", each chosen element will not be replaced, and thus the potential choices dwindles. We can see the effects of this by using Choice to select a sample size that is larger than the original array:"
   ]
  },
  {
   "cell_type": "code",
   "execution_count": 24,
   "metadata": {},
   "outputs": [
    {
     "name": "stdout",
     "output_type": "stream",
     "text": [
      "Example 1:\n",
      "['Corey' 'Craig' 'Craig' 'Mick' 'Corey']\n"
     ]
    }
   ],
   "source": [
    "rng = default_rng(33)\n",
    "\n",
    "# Creating an array of names to take a sample from\n",
    "names = ['Shawn', 'Craig', 'Mick', 'Corey']\n",
    "# First, let's leave replace as it's default value (True)\n",
    "# We'll set the size to 5 so that we will definitely see atleast one duplicate.\n",
    "example1 = rng.choice(names, size = 5)\n",
    "print('Example 1:')\n",
    "print(example1)"
   ]
  },
  {
   "cell_type": "code",
   "execution_count": 25,
   "metadata": {},
   "outputs": [
    {
     "ename": "ValueError",
     "evalue": "Cannot take a larger sample than population when replace is False",
     "output_type": "error",
     "traceback": [
      "\u001b[0;31m---------------------------------------------------------------------------\u001b[0m",
      "\u001b[0;31mValueError\u001b[0m                                Traceback (most recent call last)",
      "\u001b[0;32m<ipython-input-25-786ea7490120>\u001b[0m in \u001b[0;36m<module>\u001b[0;34m\u001b[0m\n\u001b[1;32m      2\u001b[0m \u001b[0;31m# This is because there are only 4 elements, so if they are not being replaced,\u001b[0m\u001b[0;34m\u001b[0m\u001b[0;34m\u001b[0m\u001b[0;34m\u001b[0m\u001b[0m\n\u001b[1;32m      3\u001b[0m \u001b[0;31m# then Choice cannot possible take 5 samples.\u001b[0m\u001b[0;34m\u001b[0m\u001b[0;34m\u001b[0m\u001b[0;34m\u001b[0m\u001b[0m\n\u001b[0;32m----> 4\u001b[0;31m \u001b[0mexample2\u001b[0m \u001b[0;34m=\u001b[0m \u001b[0mrng\u001b[0m\u001b[0;34m.\u001b[0m\u001b[0mchoice\u001b[0m\u001b[0;34m(\u001b[0m\u001b[0mnames\u001b[0m\u001b[0;34m,\u001b[0m \u001b[0msize\u001b[0m \u001b[0;34m=\u001b[0m \u001b[0;36m5\u001b[0m\u001b[0;34m,\u001b[0m \u001b[0mreplace\u001b[0m\u001b[0;34m=\u001b[0m\u001b[0;32mFalse\u001b[0m\u001b[0;34m)\u001b[0m\u001b[0;34m\u001b[0m\u001b[0;34m\u001b[0m\u001b[0m\n\u001b[0m\u001b[1;32m      5\u001b[0m \u001b[0mprint\u001b[0m\u001b[0;34m(\u001b[0m\u001b[0;34m'Example 2:'\u001b[0m\u001b[0;34m)\u001b[0m\u001b[0;34m\u001b[0m\u001b[0;34m\u001b[0m\u001b[0m\n\u001b[1;32m      6\u001b[0m \u001b[0mprint\u001b[0m\u001b[0;34m(\u001b[0m\u001b[0mexample2\u001b[0m\u001b[0;34m)\u001b[0m\u001b[0;34m\u001b[0m\u001b[0;34m\u001b[0m\u001b[0m\n",
      "\u001b[0;32m_generator.pyx\u001b[0m in \u001b[0;36mnumpy.random._generator.Generator.choice\u001b[0;34m()\u001b[0m\n",
      "\u001b[0;31mValueError\u001b[0m: Cannot take a larger sample than population when replace is False"
     ]
    }
   ],
   "source": [
    "# Now if we set replace=False, we should see an error.\n",
    "# This is because there are only 4 elements, so if they are not being replaced, \n",
    "# then Choice cannot possible take 5 samples.\n",
    "example2 = rng.choice(names, size = 5, replace=False)\n",
    "print('Example 2:')\n",
    "print(example2)"
   ]
  },
  {
   "cell_type": "markdown",
   "metadata": {},
   "source": [
    "There will be times where different elements of the initial array will have different probabilities of appearing in the real world, and so we may want to ensure that the sample generated by Choice matches this. This can be done via the \"p\" parameter. This accepts a one dimensional array of the respective probabilities of each element in the original array. If \"p\" is not specified, then Choice will assume that the initial array is a Uniform distribution, therefore meaning that each element has an equal probability of being selected."
   ]
  },
  {
   "cell_type": "code",
   "execution_count": 26,
   "metadata": {},
   "outputs": [
    {
     "name": "stdout",
     "output_type": "stream",
     "text": [
      "Example 3:\n",
      "['Corey' 'Craig' 'Craig' 'Mick' 'Corey' 'Corey' 'Craig' 'Craig' 'Mick'\n",
      " 'Mick' 'Craig' 'Craig' 'Corey' 'Corey' 'Corey' 'Mick' 'Craig' 'Shawn'\n",
      " 'Mick' 'Mick' 'Craig' 'Shawn' 'Mick' 'Shawn' 'Shawn' 'Shawn' 'Corey'\n",
      " 'Craig' 'Shawn' 'Shawn' 'Corey' 'Corey' 'Shawn' 'Corey' 'Mick' 'Shawn'\n",
      " 'Shawn' 'Mick' 'Mick' 'Craig' 'Shawn' 'Craig' 'Corey' 'Shawn' 'Mick'\n",
      " 'Corey' 'Mick' 'Craig' 'Shawn' 'Corey' 'Mick' 'Craig' 'Shawn' 'Shawn'\n",
      " 'Craig' 'Craig' 'Craig' 'Shawn' 'Shawn' 'Corey' 'Craig' 'Corey' 'Mick'\n",
      " 'Corey' 'Mick' 'Craig' 'Craig' 'Craig' 'Shawn' 'Mick' 'Corey' 'Mick'\n",
      " 'Corey' 'Mick' 'Craig' 'Corey' 'Craig' 'Corey' 'Shawn' 'Mick' 'Mick'\n",
      " 'Mick' 'Shawn' 'Corey' 'Shawn' 'Shawn' 'Shawn' 'Corey' 'Mick' 'Mick'\n",
      " 'Craig' 'Mick' 'Shawn' 'Mick' 'Craig' 'Mick' 'Mick' 'Shawn' 'Craig'\n",
      " 'Shawn']\n",
      "\n",
      "Breakdown of the frequency of each name in Example 3:\n",
      "[['Corey' 'Craig' 'Mick' 'Shawn']\n",
      " ['22' '25' '27' '26']]\n"
     ]
    }
   ],
   "source": [
    "rng = default_rng(33)\n",
    "\n",
    "# We'll set the size to 100 so that we can see the impact that the probability changes have.\n",
    "# First, let's use the default setting for \"p\" which assumes a Uniform distribution (i.e. equal probability for all)\n",
    "example3 = rng.choice(names, size = 100)\n",
    "print('Example 3:')\n",
    "print(example3)\n",
    "name3, counts3 = np.unique(example3, return_counts=True)\n",
    "print('\\nBreakdown of the frequency of each name in Example 3:')\n",
    "print(np.asarray((name3, counts3)))"
   ]
  },
  {
   "cell_type": "markdown",
   "metadata": {},
   "source": [
    "With the \"p\" parameter left as its default (Uniformly distributed), we see a mix of names picked. Over a larger sample size, we'd expect each name to be chosen aroundabout the same amount of times, as each of the four names has a probability of 0.25 of being selected. That's what we have here, with each name selected between 22 and 27 times.\n",
    "\n",
    "Now let's see what happens when we specify new probabilities for each name. It's important to note that we must ensure that the probabilities specified add up to 1.0, or else we will encounter an error."
   ]
  },
  {
   "cell_type": "code",
   "execution_count": 27,
   "metadata": {},
   "outputs": [
    {
     "name": "stdout",
     "output_type": "stream",
     "text": [
      "Example 4:\n",
      "['Shawn' 'Shawn' 'Mick' 'Shawn' 'Shawn' 'Shawn' 'Craig' 'Shawn' 'Shawn'\n",
      " 'Shawn' 'Shawn' 'Shawn' 'Shawn' 'Shawn' 'Shawn' 'Craig' 'Craig' 'Shawn'\n",
      " 'Shawn' 'Shawn' 'Shawn' 'Shawn' 'Mick' 'Shawn' 'Mick' 'Shawn' 'Shawn'\n",
      " 'Shawn' 'Shawn' 'Craig' 'Craig' 'Craig' 'Shawn' 'Shawn' 'Shawn' 'Shawn'\n",
      " 'Shawn' 'Craig' 'Craig' 'Shawn' 'Shawn' 'Craig' 'Shawn' 'Corey' 'Shawn'\n",
      " 'Shawn' 'Shawn' 'Shawn' 'Shawn' 'Shawn' 'Shawn' 'Shawn' 'Shawn' 'Shawn'\n",
      " 'Shawn' 'Shawn' 'Shawn' 'Shawn' 'Shawn' 'Mick' 'Shawn' 'Shawn' 'Shawn'\n",
      " 'Corey' 'Shawn' 'Shawn' 'Shawn' 'Mick' 'Shawn' 'Shawn' 'Shawn' 'Shawn'\n",
      " 'Shawn' 'Shawn' 'Shawn' 'Shawn' 'Shawn' 'Shawn' 'Shawn' 'Shawn' 'Shawn'\n",
      " 'Shawn' 'Shawn' 'Shawn' 'Shawn' 'Shawn' 'Mick' 'Shawn' 'Craig' 'Shawn'\n",
      " 'Shawn' 'Mick' 'Shawn' 'Shawn' 'Mick' 'Shawn' 'Shawn' 'Mick' 'Shawn'\n",
      " 'Shawn']\n",
      "\n",
      "Breakdown of the frequency of each name in Example 4:\n",
      "[['Corey' 'Craig' 'Mick' 'Shawn']\n",
      " ['2' '10' '9' '79']]\n"
     ]
    }
   ],
   "source": [
    "rng = default_rng(33)\n",
    "\n",
    "# Setting the \"p\" values so that \"Shawn\" should be picked 75% of the time, \"Craig\" and \"Mick\" 10% each, and \"Corey\" 5%.\n",
    "example4 = rng.choice(names, size = 100, p = [0.75, 0.1, 0.1, 0.05])\n",
    "print('Example 4:')\n",
    "print(example4)\n",
    "name4, counts4 = np.unique(example4, return_counts=True)\n",
    "print('\\nBreakdown of the frequency of each name in Example 4:')\n",
    "print(np.asarray((name4, counts4)))"
   ]
  },
  {
   "cell_type": "markdown",
   "metadata": {},
   "source": [
    "In the above example, we can see Shawn's higher probability of being picked reflected in the sample. Were this a larger sample (e.g. thousands of choices), we'd expect their frequencies to be much closer to stated probabilities. For example Shawn would be closer to 75% of the sample, rather than the 79% seen here.\n",
    "\n",
    "Finally the \"shuffle\" parameter will determine if the datasets order is shuffled after each choice. This only takes effect when replacement is set to False, and when replacement is set to True, all the available elements can be chosen regardless."
   ]
  },
  {
   "cell_type": "markdown",
   "metadata": {},
   "source": [
    "## Permutations\n",
    "\n",
    "While the functions in the Simple Random Data section are focused on creating new samples of data, either from scratch (integers, random and bytes) or by sampling from an existing array (via choice), the two permutations functions only change the order of an existing array, without adding or removing any elements, or altering their frequency.\n",
    "\n",
    "The key difference between these two functions (permutation and shuffle) is what permutation will create a copy of the specified array, and rearrange the order of its contents, whereas shuffle will do it in place, thus changing the specified array itself.\n",
    "\n",
    "The syntax for both is identical, so let's take a look before jumping into an example:\n",
    "```\n",
    "Generator.permutation(x, axis=0)\n",
    "Generator.shuffle(x, axis=0)\n",
    "```\n",
    "\n",
    "Here we have \"x\" which is the array we wish to use for this function. This can either be an existing array, or it can be one generated by by Numpy (e.g. np.arange(5)). The axis parameter decides which axis the array's contents will be shuffled on. This impacts multi-dimensional arrays, and decides at which level the re-ordering happens. We will see examples of this below.\n",
    "\n",
    "First, let's generate an array for us to re-order."
   ]
  },
  {
   "cell_type": "code",
   "execution_count": 28,
   "metadata": {},
   "outputs": [
    {
     "data": {
      "text/plain": [
       "array([0, 1, 2, 3, 4, 5, 6, 7, 8, 9])"
      ]
     },
     "execution_count": 28,
     "metadata": {},
     "output_type": "execute_result"
    }
   ],
   "source": [
    "numbers = np.arange(10)\n",
    "numbers"
   ]
  },
  {
   "cell_type": "markdown",
   "metadata": {},
   "source": [
    "As mentioned above, the permutation function will create a copy of the specified array, and then reorder its contents. It therefore needs to be assigned a new variable so that these copy of the array can be stored."
   ]
  },
  {
   "cell_type": "code",
   "execution_count": 29,
   "metadata": {},
   "outputs": [
    {
     "name": "stdout",
     "output_type": "stream",
     "text": [
      "When permutation is not assigned to a new variable, the order remains the same:\n",
      "[0 1 2 3 4 5 6 7 8 9]\n",
      "\n",
      "In order for the new array to be stored, it must be assigned a new variable, in this case 'perm':\n",
      "[2 6 1 0 3 8 9 4 5 7]\n"
     ]
    }
   ],
   "source": [
    "rng = np.random.default_rng(33)\n",
    "\n",
    "rng.permutation(numbers)\n",
    "print('When permutation is not assigned to a new variable, the order remains the same:')\n",
    "print(numbers)\n",
    "\n",
    "perm = rng.permutation(numbers)\n",
    "print(\"\\nIn order for the new array to be stored, it must be assigned a new variable, in this case 'perm':\")\n",
    "print(perm)"
   ]
  },
  {
   "cell_type": "markdown",
   "metadata": {},
   "source": [
    "Meanwhile the shuffle fuction will make its changes in place. This means it'll change the existing array, and won't make a copy."
   ]
  },
  {
   "cell_type": "code",
   "execution_count": 30,
   "metadata": {},
   "outputs": [
    {
     "name": "stdout",
     "output_type": "stream",
     "text": [
      "'numbers' before the shuffle function is used:\n",
      "[0 1 2 3 4 5 6 7 8 9]\n",
      "\n",
      "'numbers' after the shuffle function is used:\n",
      "[0 6 3 1 4 5 8 2 7 9]\n",
      "\n",
      "And if we assign this function to a new variable, we get None:\n",
      "None\n"
     ]
    }
   ],
   "source": [
    "print(\"'numbers' before the shuffle function is used:\")\n",
    "print(numbers)\n",
    "\n",
    "rng.shuffle(numbers)\n",
    "\n",
    "print(\"\\n'numbers' after the shuffle function is used:\")\n",
    "print(numbers)\n",
    "\n",
    "test = rng.shuffle(numbers)\n",
    "print(\"\\nAnd if we assign this function to a new variable, we get None:\")\n",
    "print(test)"
   ]
  },
  {
   "cell_type": "markdown",
   "metadata": {},
   "source": [
    "In order to see what effect the axis parameter has, we will create a couple of multidimensional arrays. I will use the permutation function for these, although the axis parameter works exactly the same way for the shuffle function."
   ]
  },
  {
   "cell_type": "code",
   "execution_count": 35,
   "metadata": {},
   "outputs": [],
   "source": [
    "numbers = np.arange(9).reshape(3,3)\n",
    "\n",
    "\n",
    "axis0 = rng.permutation(numbers, axis=0)\n",
    "axis1 = rng.permutation(numbers, axis=1)"
   ]
  },
  {
   "cell_type": "markdown",
   "metadata": {},
   "source": [
    "Here's our new 2 dimensional array, made up of 3 arrays of 3 items."
   ]
  },
  {
   "cell_type": "code",
   "execution_count": 32,
   "metadata": {},
   "outputs": [
    {
     "data": {
      "text/plain": [
       "array([[0, 1, 2],\n",
       "       [3, 4, 5],\n",
       "       [6, 7, 8]])"
      ]
     },
     "execution_count": 32,
     "metadata": {},
     "output_type": "execute_result"
    }
   ],
   "source": [
    "numbers"
   ]
  },
  {
   "cell_type": "markdown",
   "metadata": {},
   "source": [
    "'axis=0' will change the high level order of the sub-arrays, but will not change the order within each individual array.\\nNotice that the numbers are still in the same order in their respctive arrays (e.g. [0, 1, 2]) but the order of the three arrays themselves has changed:\n"
   ]
  },
  {
   "cell_type": "code",
   "execution_count": 33,
   "metadata": {},
   "outputs": [
    {
     "data": {
      "text/plain": [
       "array([[0, 1, 2],\n",
       "       [6, 7, 8],\n",
       "       [3, 4, 5]])"
      ]
     },
     "execution_count": 33,
     "metadata": {},
     "output_type": "execute_result"
    }
   ],
   "source": [
    "axis0"
   ]
  },
  {
   "cell_type": "markdown",
   "metadata": {},
   "source": [
    "'axis=1' will change the order in each of the sub-arrays, but keep the high level order of sub-arrays the same. In this case [0,1,2] can change to [1, 0, 2] or similar, meanwhile the array that contains those three numbers remains first in the high level order:"
   ]
  },
  {
   "cell_type": "code",
   "execution_count": 34,
   "metadata": {},
   "outputs": [
    {
     "data": {
      "text/plain": [
       "array([[1, 0, 2],\n",
       "       [4, 3, 5],\n",
       "       [7, 6, 8]])"
      ]
     },
     "execution_count": 34,
     "metadata": {},
     "output_type": "execute_result"
    }
   ],
   "source": [
    "axis1"
   ]
  },
  {
   "cell_type": "markdown",
   "metadata": {},
   "source": [
    "## Distributions\n",
    "\n",
    "\n",
    "For some use cases, the user will require a set of pseudorandom numbers that fit a particular probability distribution. Numpy.Random allows the user to specify what type of probability distribution they would like their pseudorandom data to look like, and provides numerous parameters that allows the users to ensure that the distribution is as closely mirrored to their use case as possible. \n",
    "\n",
    "One such use case is that it allows the user to ensure that their pseudorandom generated dataset is in line with that they expect to encounter in the real world. For example, in one of my Normal Distribution examples below, I am able to specify the average height of adult males in Ireland, the standard deviation in adult male height, and the population of adult males in Ireland. The resulting dataset therefore shows what the heights of adult males in Ireland might look like, and while it won't replace a dataset based on actual measurements in any final product, it will give me a dataset that's not too dissimilar from what I can expect. I can then fine tune my analyses, algorithms and visualisations around this pseudorandom dataset for now, so that it can be applied and adapted to the real dataset in future.\n",
    "\n",
    "Alternatively, if I already have a dataset collected, I can compare my existing data set to a known probability distribution. This can speed up the process of exploratoty data analysis (EDA) as known probability distributions have certain key charachteristics and summary statistics that can be used. Therefore knowing which probability distribution a given data set falls under can make it easier to select the best machine learning model to suit the dataset, as some models are built specifically for certain probability distributions[25].\n",
    "\n",
    "Another key use case is in the study and exploration of data science and related techniques. As users can instantly generate a pseudorandom dataset for each of the known probability distributions included in the Numpy.Random package, they are therefore not limited by the real world datasets that they have access to. This allows the user to explore the various distributions in order to aid their learning, or see how they analyses, plotting or other techniques hold up under different conditions.\n",
    "\n",
    "### Discrete vs Continuous Data\n",
    "\n",
    "While some probability distributions can work with both discrete and continuous data, others can only work with one or the other, so it is important that we clarify what these two terms mean[27].\n",
    "\n",
    "Discrete data is the term given to rounded, countable data that is well defined, and so is represented by integers. For example, I have 2 children. I cannot have half a child, nor can I have 3.14 children, therefore a count of children per family would be a discrete measurement.\n",
    "\n",
    "Continuous data is not rounded and can exist at any point between two integers, thus making it more common for measurements. Although we may use a rounded number for a measurement, for example today is 5 degrees celcius, the true measurement will be far more specific, for example 4.971342341 degrees celcius. \n",
    "\n",
    "In summary, if the data point can be precisely counted, often to an integer, then it is discrete. If the data point can take on any value at all within the given range, and requires a float to be precise, then it is continuous."
   ]
  },
  {
   "cell_type": "markdown",
   "metadata": {},
   "source": [
    "### Normal / Gaussian Distribution\n",
    "\n",
    "The Normal Distribution, otherwise known as the Gaussian Distribution after Card Friedrich Guass, who first described this distribution[26], is one the most recognisable and well known probability distributions due to its iconic \"bell curve\" shape. \n",
    "\n",
    "We see this distribution in many areas of the world around us as data points are centered around the average, with very high or very low observations becoming less and less likely the further away from the average.  For example, most adults are of average height or within a few centimeters of it. The probability of someone being much taller or much shorter than the average height becomes less and less as the measurement gets further away from the average.\n",
    "\n",
    "Meanwhile, the events in a Normal Distribution are independent of each other, that is to say that on event does not impact the value of another. Going back to the adult height example, the height of my wife has no impact on the height of myself - we're independent of each other. Even the heights of our children are somewhat independent of our heights, as suggested by regression to the mean[29]. \n",
    "\n",
    "The key elements of a Normal Distribution are[28]:\n",
    "* Events are independent. \n",
    "* They are gathered around the mean and median, with \"tails\" on either side (i.e. an event is just as likely to be larger than the average than it is to be smaller. \n",
    "* 68% of the events are within 1 standard deviation of the mean, and 95% within are with 2 standard deviations.\n",
    "\n",
    "#### The random.normal function\n",
    "\n",
    "The Normal function will create a dataset that is Normally Distributed, and requires only three paramters[33]:\n",
    "\n",
    "```\n",
    "numpy.random.normal(loc=0.0, scale=1.0, size=None)\n",
    "```\n",
    "\n",
    "The \"loc\" parameter allows the user to specify the mean value in the dataset. As outlined above, the events will be centered around this mean.\n",
    "\n",
    "\"Scale\" specifies the standard deviation for the dataset. As the Normal Distribution has 68% of the events within 1 standard deviation and 95% within 2, the \"scale\" parameter therefore impacts the spread of the data points.\n",
    "\n",
    "Finally, the \"size\" parameter will determine how many events will be generated, and how many dimensions the output array will be in. When this paramter is left as its default, \"None\", it will produce 1 event at a time.\n",
    "\n",
    "#### Example - Height of adult males in Ireland.\n",
    "\n",
    "Let's take a look at the height of adult males in Ireland as an example of a Normal Distribution. I'll first need to specify the \"loc\", \"scale\" and \"size\" parameters.\n",
    "\n",
    "First, so as to ensure our psuedorandom dataset is somewhat reflective of the real world, I've done some research to find the key data points I'll need to build my dataset.\n",
    "\n",
    "##### At what age is someone an adult in Ireland?\n",
    "The \"Age of Majority\" in Ireland is 18 years old[30]. I'm therefore looking for the number of adults over the age of 18, an their heights. \n",
    "\n",
    "##### How many males are over the age of 18 in Ireland?\n",
    "In 2016 there were 1,745,643 males 18 or older on their last birthday[31]. This will serve as the \"size\" parameter.\n",
    "\n",
    "##### What is the average male height in Ireland?\n",
    "As of 2010, the average male height in Ireland was 177cm[32]. I will use this figure as I don't anticipate much change within 10 years. This will serve as the \"loc\" parameter.\n",
    "\n",
    "##### What would be the standard deviation in adult male height?\n",
    "While I could not find a figure specific to Ireland, I was able to find that the standard deviation of adult male height in the US is around 7.49 cm. I'll therefore use this as the \"scale\" parameter. \n",
    "\n",
    "Now that we have our parameters, we can generate the dataset."
   ]
  },
  {
   "cell_type": "code",
   "execution_count": 5,
   "metadata": {},
   "outputs": [],
   "source": [
    "# As I'll be using some of these datapoints again, I'll set them to be variables for easier re-use.\n",
    "\n",
    "irish_population = 1745643\n",
    "\n",
    "irish_mean_height = 177\n",
    "\n",
    "height_std = 7.49"
   ]
  },
  {
   "cell_type": "code",
   "execution_count": 13,
   "metadata": {},
   "outputs": [
    {
     "data": {
      "text/plain": [
       "array([186.47663382, 184.27558977, 175.68869078, ..., 177.35972275,\n",
       "       183.59819375, 173.36335903])"
      ]
     },
     "execution_count": 13,
     "metadata": {},
     "output_type": "execute_result"
    }
   ],
   "source": [
    "# We can now generate our Normal Distribution data set.\n",
    "irish_heights = np.random.normal(irish_mean_height, height_std, irish_population)\n",
    "irish_heights"
   ]
  },
  {
   "cell_type": "markdown",
   "metadata": {},
   "source": [
    "As we know that a Normal Distribution should have its events centered around the mean, we would expect the mean and median for this dataset to be around 177. We can confirm this by using np.mean() and np.median() on the dataset, like so:"
   ]
  },
  {
   "cell_type": "code",
   "execution_count": 14,
   "metadata": {},
   "outputs": [
    {
     "name": "stdout",
     "output_type": "stream",
     "text": [
      "The mean measurement is:\n",
      "177.00155774247852\n",
      "\n",
      "The median measurement is:\n",
      "176.9924352540295\n"
     ]
    }
   ],
   "source": [
    "print(\"The mean measurement is:\")\n",
    "print(np.mean(irish_heights))\n",
    "print(\"\\nThe median measurement is:\")\n",
    "print(np.median(irish_heights))"
   ]
  },
  {
   "cell_type": "code",
   "execution_count": 3,
   "metadata": {},
   "outputs": [
    {
     "data": {
      "image/png": "[encoded data removed]",
      "text/plain": [
       "<Figure size 432x288 with 1 Axes>"
      ]
     },
     "metadata": {
      "needs_background": "light"
     },
     "output_type": "display_data"
    }
   ],
   "source": [
    "import seaborn as sns\n",
    "\n",
    "#np.random.normal(mean, standard deviation, size)\n",
    "\n",
    "population = 1745643\n",
    "\n",
    "heights = np.random.normal(177, 7.49, population)\n",
    "\n",
    "sns.histplot(heights);"
   ]
  },
  {
   "cell_type": "markdown",
   "metadata": {},
   "source": [
    "#### Example 2 - Shoe sizes\n",
    "\n",
    "Average shoe size is around 10 https://www.footsolutions.ie/blog/do-your-shoes-fit-average-foot-size-larger-than-ever-before/"
   ]
  },
  {
   "cell_type": "code",
   "execution_count": null,
   "metadata": {},
   "outputs": [],
   "source": [
    "#np.random.normal(mean, standard deviation, size)\n",
    "shoes = np.random.normal(10, 1, population)\n",
    "\n",
    "plt.hist(shoes);"
   ]
  },
  {
   "cell_type": "markdown",
   "metadata": {},
   "source": [
    "### Binomial Distribution \n",
    "\n",
    "https://www.mathsisfun.com/data/binomial-distribution.html\n",
    "https://docs.scipy.org/doc/numpy-1.15.0/reference/generated/numpy.random.binomial.html#numpy.random.binomial\n",
    "\n",
    "Binomial distribution doesn't gave to be equal probability. 1 is often seen as the success value ie. The rarer outcome or outcome of interest. (from Practical Statistics for Data Science - https://www.oreilly.com/library/view/practical-statistics-for/9781491952955/)\n",
    "\n",
    "example - coin toss, sales conversion, picking cards out of a deck"
   ]
  },
  {
   "cell_type": "code",
   "execution_count": null,
   "metadata": {},
   "outputs": [],
   "source": [
    "\n",
    "#np.random.binomial(number of trials, probability, size)\n",
    "# Example 1 - Coin toss - ask every adult male in Ireland to flip a coin 10 times and record the result.\n",
    "\n",
    "#1 = head, 0 = tail\n",
    "rolls = np.random.binomial(10, 0.5, population)\n",
    "plt.hist(rolls);"
   ]
  },
  {
   "cell_type": "code",
   "execution_count": null,
   "metadata": {},
   "outputs": [],
   "source": [
    "\n",
    "# Example 2 - Pick out 13 cards from a deck, and place it back. How many are hearts?\n",
    "\n",
    "cards = np.random.binomial(13, 0.25, population)\n",
    "plt.hist(cards);"
   ]
  },
  {
   "cell_type": "markdown",
   "metadata": {},
   "source": [
    "### Poisson Distribution\n",
    "\n",
    "Events are independent of each other. Average time between events is known, but the exact timing is random.\n",
    "\n",
    "https://docs.scipy.org/doc/numpy-1.15.0/reference/generated/numpy.random.poisson.html#numpy.random.poisson\n",
    "https://towardsdatascience.com/the-poisson-distribution-and-poisson-process-explained-4e2cb17d459\n",
    "\n",
    "Examples - tickets received, cars driving past"
   ]
  },
  {
   "cell_type": "code",
   "execution_count": 36,
   "metadata": {},
   "outputs": [
    {
     "ename": "NameError",
     "evalue": "name 'plt' is not defined",
     "output_type": "error",
     "traceback": [
      "\u001b[0;31m---------------------------------------------------------------------------\u001b[0m",
      "\u001b[0;31mNameError\u001b[0m                                 Traceback (most recent call last)",
      "\u001b[0;32m<ipython-input-36-526c30af60a4>\u001b[0m in \u001b[0;36m<module>\u001b[0;34m\u001b[0m\n\u001b[1;32m      6\u001b[0m \u001b[0mtickets\u001b[0m \u001b[0;34m=\u001b[0m \u001b[0mnp\u001b[0m\u001b[0;34m.\u001b[0m\u001b[0mrandom\u001b[0m\u001b[0;34m.\u001b[0m\u001b[0mpoisson\u001b[0m\u001b[0;34m(\u001b[0m\u001b[0mlam\u001b[0m\u001b[0;34m=\u001b[0m\u001b[0;36m5.9\u001b[0m\u001b[0;34m,\u001b[0m \u001b[0msize\u001b[0m \u001b[0;34m=\u001b[0m \u001b[0;36m1000\u001b[0m\u001b[0;34m)\u001b[0m\u001b[0;34m\u001b[0m\u001b[0;34m\u001b[0m\u001b[0m\n\u001b[1;32m      7\u001b[0m \u001b[0;34m\u001b[0m\u001b[0m\n\u001b[0;32m----> 8\u001b[0;31m \u001b[0mplt\u001b[0m\u001b[0;34m.\u001b[0m\u001b[0mhist\u001b[0m\u001b[0;34m(\u001b[0m\u001b[0mtickets\u001b[0m\u001b[0;34m)\u001b[0m\u001b[0;34m\u001b[0m\u001b[0;34m\u001b[0m\u001b[0m\n\u001b[0m",
      "\u001b[0;31mNameError\u001b[0m: name 'plt' is not defined"
     ]
    }
   ],
   "source": [
    "#numpy.random.poisson(lam, size)\n",
    "\n",
    "# Example 1 - tickets received\n",
    "# My team gets around 1000 tickets per week, which would mean a ticket every 5.9 mins on average\n",
    "\n",
    "tickets = np.random.poisson(lam=5.9, size = 1000)\n",
    "\n",
    "plt.hist(tickets)\n"
   ]
  },
  {
   "cell_type": "markdown",
   "metadata": {},
   "source": [
    "### Exponential Distribution\n",
    "\n",
    "Fewer large values, but more smaller values\n",
    "\n",
    "https://docs.scipy.org/doc/numpy-1.15.0/reference/generated/numpy.random.exponential.html#numpy.random.exponential\n",
    "https://courses.lumenlearning.com/introstats1/chapter/the-exponential-distribution/\n",
    "\n",
    "examples - chat handle times, how long products last (e.g. how long until Keela loses a hair band)"
   ]
  },
  {
   "cell_type": "markdown",
   "metadata": {},
   "source": [
    "### Geometric Distribution\n",
    "\n",
    "The number of attempts until success. e.g. the number of times a die was rolled until you got a 6.\n",
    "\n",
    "https://minisham.redbrick.dcu.ie/CA/Notes/CA266/10_Geometric_Distribution.pdf\n",
    "https://docs.scipy.org/doc/numpy-1.15.0/reference/generated/numpy.random.geometric.html#numpy.random.geometric\n",
    "\n",
    "examples - number of tickets solved until a csat was completed, videogame loot boxes"
   ]
  },
  {
   "cell_type": "markdown",
   "metadata": {},
   "source": [
    "# Notes\n",
    "\n",
    "# Seeding random numbers\n",
    "\n",
    "Computers are deterministic, not random. therefore if we seed a specific starting point, we can take advantage of this. Quote from MIT article “if you ask the same question you’ll get the same answer every time.”\n",
    "\n",
    "https://www.random.org/randomness/\n",
    "https://engineering.mit.edu/engage/ask-an-engineer/can-a-computer-generate-a-truly-random-number/\n",
    "\n",
    "Using a seed makes the code repeatable. Good for testing, sharing and teaching. Sharpsight article (https://www.sharpsightlabs.com/blog/numpy-random-seed/) mentions using for teaching. \n",
    "\n",
    "“When I do this, it’s important that people who read the tutorials and run the code get the same result. If a student reads the tutorial, and copy-and-pastes the code exactly, I want them to get the exact same result. This just helps them check their work! If they type in the code exactly as I show it in a tutorial, getting the exact same result gives them confidence that they ran the code properly.” \n",
    "\n",
    "“If you use a function from the numpy.random namespace (like np.random.randint, np.random.normal, etc) without using NumPy random see first, Python will actually still use numpy.random.seed in the background. NumPy will generate a seed value from a part of your computer system (like /urandom on a Unix or Linux machine).”\n",
    "\n",
    "\n",
    "\n",
    "### What improvements come with PCG64?\n",
    "How to seed PCG64?\n",
    "numpy.random.default_rng(). Can also specify the old Mersenne Twiser algorithm by passinng MT19937 in the argument, e.g. numpy.random.default_rng(MT19937(42)\n",
    "\"Generator, besides being NumPy-aware, has the advantage that it provides a much larger number of probability distributions to choose from.\"\n",
    "from - https://numpy.org/doc/stable/reference/random/generator.html\n",
    "\n",
    "from https://numpy.org/doc/stable/reference/random/index.html\n",
    "\" PCG64 which has better statistical properties than the legacy MT19937\"\n",
    "\n",
    "How the seed is picked (MT algorithm)\n",
    "https://numpy.org/doc/stable/reference/random/legacy.html\n",
    "\"If seed is None, then the MT19937 BitGenerator is initialized by reading data from /dev/urandom (or the Windows analogue) if available or seed from the clock otherwise.\"\n",
    "\n",
    "More info on seeding - https://numpy.org/doc/stable/reference/random/parallel.html#seedsequence-spawn\n",
    "\n",
    "\"For example, MT19937 has a state consisting of 624 uint32 integers. A naive way to take a 32-bit integer seed would be to just set the last element of the state to the 32-bit seed and leave the rest 0s. This is a valid state for MT19937, but not a good one. The Mersenne Twister algorithm suffers if there are too many 0s. Similarly, two adjacent 32-bit integer seeds (i.e. 12345 and 12346) would produce very similar streams.\"\n",
    "\n",
    "SeedSequence avoids these problems by using successions of integer hashes with good avalanche properties to ensure that flipping any bit in the input input has about a 50% chance of flipping any bit in the output. Two input seeds that are very close to each other will produce initial states that are very far from each other (with very high probability). It is also constructed in such a way that you can provide arbitrary-sized integers or lists of integers. SeedSequence will take all of the bits that you provide and mix them together to produce however many bits the consuming BitGenerator needs to initialize itself.\n",
    "\n",
    "These properties together mean that we can safely mix together the usual user-provided seed with simple incrementing counters to get BitGenerator states that are (to very high probability) independent of each other. We can wrap this together into an API that is easy to use and difficult to misuse.\n",
    "\n",
    "avalanche effect - https://en.wikipedia.org/wiki/Avalanche_effect\n",
    "\n",
    "https://numpy.org/doc/stable/reference/random/performance.html\n",
    "\n",
    "\"The recommended generator for general use is PCG64. It is statistically high quality, full-featured, and fast on most platforms, but somewhat slow when compiled for 32-bit processes.\"\n",
    "\n",
    "\"MT19937 fails some statistical tests (https://www.iro.umontreal.ca/~lecuyer/myftp/papers/testu01.pdf) and is not especially fast compared to modern PRNGs. For these reasons, we mostly do not recommend using it on its own, only through the legacy RandomState for reproducing old results. That said, it has a very long history as a default in many systems.\"\n",
    "\n",
    "\" The original MT19937 generator is much slower since it requires 2 32-bit values to equal the output of the faster generators.\"\n",
    "\n",
    "![here](https://screenshot.click/09_51-97cot-1j3zc.jpg)\n",
    "\n",
    "https://numpy.org/doc/stable/reference/random/bit_generators/pcg64.html#numpy.random.PCG64\n",
    "\n",
    "\n",
    "\n",
    "Simple random data vs permutations\n",
    "\n",
    "Permutations only change the order of the elements in an array, whether that be by changing it in place (shuffle) or creating a copy of the original array (permutation). The number of elements in the array, and how frequently each appears in the array are not impacted at all. \n",
    "\n",
    "Meanwhile the simple random data functions will create new arrays of randomly selected data. For most of these, it involves selecting numbers from a given range (e.g. floating point numbers between 0 and 1). In the case of random.choice() it will randomly pick x elements out of an existing array with or without replacement. Therefore simple random data creates a new data set (potentially based off an existing one in the case of Choice), whereas permutations just alter an existing data set.\n",
    "\n"
   ]
  },
  {
   "cell_type": "code",
   "execution_count": null,
   "metadata": {},
   "outputs": [],
   "source": []
  },
  {
   "cell_type": "markdown",
   "metadata": {},
   "source": [
    "References \n",
    "\n",
    "<p>[1] Harris, C.R., Millman, K.J., van der Walt, S.J. et al. Array programming with NumPy. Nature 585, 357–362 (2020). https://doi.org/10.1038/s41586-020-2649-2</p>\n",
    "<p>[2] Pandas; Package Overview; https://pandas.pydata.org/pandas-docs/stable/getting_started/overview.html</p>\n",
    "<p>[3] Stack Overflow; Differences between numpy.random and random.random in Python; https://stackoverflow.com/a/43838531</p>\n",
    "<p>[4] Numpy; numpy.random.Generator.choice;\n",
    "https://numpy.org/doc/stable/reference/random/generated/numpy.random.Generator.choice.html#numpy.random.Generator.choice</p>\n",
    "<p>[5] Numpy; numpy.random.Generator.shuffle; https://numpy.org/doc/stable/reference/random/generated/numpy.random.Generator.shuffle.html#numpy.random.Generator.shuffle</p>\n",
    "<p>[6] Numpy; numpy.random.Generator.permutation; https://numpy.org/doc/stable/reference/random/generated/numpy.random.Generator.permutation.html#numpy.random.Generator.permutation</p>\n",
    "<p>[7] Statistics by Jim; Introduction to Bootstrapping in Statistics with an Example; https://statisticsbyjim.com/hypothesis-testing/bootstrapping/</p>\n",
    "<p>[8] Numpy; Random sampling (numpy.random); https://numpy.org/doc/stable/reference/random/index.html</p>\n",
    "<p>[9] Numpy; Permuted Congruential Generator (64-bit, PCG64); https://numpy.org/doc/stable/reference/random/bit_generators/pcg64.html#numpy.random.PCG64</p>\n",
    "<p>[10] MIT School of Engineering: Ask an Engineer; Can a computer generate a truly random number?; https://engineering.mit.edu/engage/ask-an-engineer/can-a-computer-generate-a-truly-random-number/</p>\n",
    "<p>[11] Pierre L’Ecuyer, Richard Simard, TestU01: A C Library for Empirical Testing of\n",
    "Random Number Generators, ACM Transactions on Mathematical Software, Vol. 33, No. 4, Article 22, August 2007. https://www.iro.umontreal.ca/~lecuyer/myftp/papers/testu01.pdf</p>\n",
    "<p>[12] Melissa E. O’Neill, PCG: A Family of Simple Fast Space-Efficient Statistically Good Algorithms for Random Number Generation, September 5, 2014, https://www.cs.hmc.edu/tr/hmc-cs-2014-0905.pdf</p>\n",
    "<p>[13] Numpy; Bit Generators; https://numpy.org/doc/stable/reference/random/bit_generators/index.html#seeding-and-entropy</p>\n",
    "<p>[14] HACKADAY; WHAT IS ENTROPY AND HOW DO I GET MORE OF IT?; https://hackaday.com/2017/11/02/what-is-entropy-and-how-do-i-get-more-of-it/</p>\n",
    "<p>[15] Sharp Sight Labs; NUMPY RANDOM SEED EXPLAINED; https://www.sharpsightlabs.com/blog/numpy-random-seed/</p>\n",
    "<p>[16] Numpy; Parallel Random Number Generation; https://numpy.org/doc/stable/reference/random/parallel.html#seedsequence-spawn</p>\n",
    "<p>[17] Scipy; numpy.random.seed; https://docs.scipy.org/doc/numpy-1.15.1/reference/generated/numpy.random.seed.html</p>\n",
    "<p>[18] Numpy; Random Generator; https://numpy.org/doc/stable/reference/random/generator.html#numpy.random.default_rng</p>\n",
    "<p>[19] Numpy; numpy.random.Generator.integers; https://numpy.org/doc/stable/reference/random/generated/numpy.random.Generator.integers.html#numpy.random.Generator.integers</p>\n",
    "<p>[20] Numpy; numpy.random.Generator.random; https://numpy.org/doc/stable/reference/random/generated/numpy.random.Generator.random.html#numpy.random.Generator.random</p>\n",
    "<p>[21] Numpy; numpy.random.Generator.bytes; https://numpy.org/doc/stable/reference/random/generated/numpy.random.Generator.bytes.html#numpy.random.Generator.bytes</p>\n",
    "<p>[22] Numpy; numpy.random.Generator.choice; https://numpy.org/doc/stable/reference/random/generated/numpy.random.Generator.choice.html#numpy.random.Generator.choice</p>\n",
    "<p>[23] Numpy; numpy.random.Generator.permutation; https://numpy.org/doc/stable/reference/random/generated/numpy.random.Generator.permutation.html#numpy.random.Generator.permutation</p>\n",
    "<p>[24] Numpy; numpy.random.Generator.shuffle; https://numpy.org/doc/stable/reference/random/generated/numpy.random.Generator.shuffle.html#numpy.random.Generator.shuffle</p>\n",
    "<p>[25] Pier Paolo Ippolito; Towards Data Science; Probability Distributions in Data Science; Aug 22 2019;  https://towardsdatascience.com/probability-distributions-in-data-science-cce6e64873a7</p>\n",
    "<p> [26] Wikipedia; Carl Friedrich Gauss; https://en.wikipedia.org/wiki/Carl_Friedrich_Gauss</p>\n",
    "<p> [27] Stat Trek; Probability Distributions: Discrete vs. Continuous\n",
    "; https://stattrek.com/probability-distributions/discrete-continuous.aspx</p>\n",
    "<p> [28] Peter Bruce, Andrew Bruce, Peter Gedeck; Practical Statistics for Data Scientists, 2nd Edition; O'Reilly Media, Inc.; May 2020</p>\n",
    "<p> [29] Select Statistical Services; Regression to the Mean: as relevant today as it was in the 1900s\n",
    "; https://select-statistics.co.uk/blog/regression-to-the-mean-as-relevant-today-as-it-was-in-the-1900s/</p>\n",
    "<p> [30] https://www.citizensinformation.ie/en/birth_family_relationships/children_s_rights_and_policy/children_and_rights_in_ireland.html#:~:text=However%2C%20you%20must%20be%2018%20years%20of%20age%20or%20over </p>\n",
    "<p> [31] https://statbank.cso.ie/px/pxeirestat/Statire/SelectVarVal/saveselections.asp </p>\n",
    "<p> [32] https://irp-cdn.multiscreensite.com/46a7ad27/files/uploaded/The%20National%20Adult%20Nutrition%20Survey%20Summary%20Report%20March%202011.pdf </p>\n",
    "<p> [33] https://numpy.org/doc/stable/reference/random/generated/numpy.random.normal.html </p>\n",
    "<p> [34] https://ourworldindata.org/human-height </p>\n",
    "\n",
    "\n",
    "\n",
    "https://zkf85.github.io/2019/01/31/np-shuffle-vs-permutation\n",
    "https://www.w3schools.com/python/numpy_random_permutation.asp\n",
    "https://www.random.org/randomness/\n",
    "https://www.sharpsightlabs.com/blog/numpy-random-seed/\n",
    " https://numpy.org/doc/stable/reference/random/index.html https://numpy.org/doc/stable/reference/random/new-or-different.html#new-or-different https://www.sharpsightlabs.com/blog/numpy-random-seed/ https://medium.com/@debanjana.bhattacharyya9818/numpy-random-seed-101-explained-2e96ee3fd90b\n",
    " https://iopscience.iop.org/article/10.3847/1538-4357/aaf103 \n",
    " https://towardsdatascience.com/probability-concepts-explained-probability-distributions-introduction-part-3-4a5db81858dc"
   ]
  }
 ],
 "metadata": {
  "kernelspec": {
   "display_name": "Python 3",
   "language": "python",
   "name": "python3"
  },
  "language_info": {
   "codemirror_mode": {
    "name": "ipython",
    "version": 3
   },
   "file_extension": ".py",
   "mimetype": "text/x-python",
   "name": "python",
   "nbconvert_exporter": "python",
   "pygments_lexer": "ipython3",
   "version": "3.8.5"
  }
 },
 "nbformat": 4,
 "nbformat_minor": 4
}
