{
 "cells": [
  {
   "cell_type": "markdown",
   "metadata": {},
   "source": [
    "# Numpy.Random\n",
    "\n",
    "## Assignment Details\n",
    "\n",
    "Problem statement\n",
    "The following assignment concerns the numpy.random package in Python. You are\n",
    "required to create a Jupyter notebook explaining the use of the package, including\n",
    "detailed explanations of at least five of the distributions provided for in the package.\n",
    "There are four distinct tasks to be carried out in your Jupyter notebook.\n",
    "1. Explain the overall purpose of the package.\n",
    "2. Explain the use of the “Simple random data” and “Permutations” functions.\n",
    "3. Explain the use and purpose of at least five “Distributions” functions.\n",
    "4. Explain the use of seeds in generating pseudorandom numbers."
   ]
  },
  {
   "cell_type": "code",
   "execution_count": 1,
   "metadata": {},
   "outputs": [],
   "source": [
    "import numpy as np\n",
    "import matplotlib.pyplot as plt"
   ]
  },
  {
   "cell_type": "markdown",
   "metadata": {},
   "source": [
    "## Overall purpose of the package"
   ]
  },
  {
   "cell_type": "markdown",
   "metadata": {},
   "source": [
    "## Simple Random Data & Permutations"
   ]
  },
  {
   "cell_type": "markdown",
   "metadata": {},
   "source": [
    "## Distributions"
   ]
  },
  {
   "cell_type": "markdown",
   "metadata": {},
   "source": [
    "### Normal Distribution\n",
    "\n",
    "Events are independent, but gathered around the average/median with tails on either side.\n",
    "\n",
    "https://docs.scipy.org/doc/numpy-1.15.0/reference/generated/numpy.random.normal.html#numpy.random.normal\n",
    "https://www.mathsisfun.com/data/standard-normal-distribution.html\n",
    "\n",
    "Examples - Height, shoe size\n",
    "\n",
    "#### Example 1 - Height of adult males in Ireland.\n",
    "Average height of an adult male in Ireland is 172cm.\n",
    "\n",
    "Age of Majority in Ireland is 18 - https://www.citizensinformation.ie/en/birth_family_relationships/children_s_rights_and_policy/children_and_rights_in_ireland.html#:~:text=However%2C%20you%20must%20be%2018%20years%20of%20age%20or%20over.\n",
    "\n",
    "In 2016 there were 1,745,643 males 18 or older on their last birthday.\n",
    "https://statbank.cso.ie/px/pxeirestat/Statire/SelectVarVal/saveselections.asp\n",
    "https://screenshot.click/29_51-0yi51-2eqji.jpg\n",
    "\n",
    "Average male height is 177cm in 2010\n",
    "https://www.iuna.net/surveyreports\n",
    "https://irp-cdn.multiscreensite.com/46a7ad27/files/uploaded/The%20National%20Adult%20Nutrition%20Survey%20Summary%20Report%20March%202011.pdf\n",
    "\n",
    "Standard deviation is aroung 7.59cm https://ourworldindata.org/human-height"
   ]
  },
  {
   "cell_type": "code",
   "execution_count": 4,
   "metadata": {},
   "outputs": [
    {
     "data": {
      "image/png": "[encoded data removed]",
      "text/plain": [
       "<Figure size 432x288 with 1 Axes>"
      ]
     },
     "metadata": {
      "needs_background": "light"
     },
     "output_type": "display_data"
    }
   ],
   "source": [
    "#np.random.normal(mean, standard deviation, size)\n",
    "heights = np.random.normal(177, 7.59, 1745643)\n",
    "\n",
    "plt.hist(heights);"
   ]
  },
  {
   "cell_type": "markdown",
   "metadata": {},
   "source": [
    "#### Example 2 - Shoe sizes\n",
    "\n",
    "Average shoe size is around 10 https://www.footsolutions.ie/blog/do-your-shoes-fit-average-foot-size-larger-than-ever-before/"
   ]
  },
  {
   "cell_type": "code",
   "execution_count": 5,
   "metadata": {},
   "outputs": [
    {
     "data": {
      "image/png": "[encoded data removed]",
      "text/plain": [
       "<Figure size 432x288 with 1 Axes>"
      ]
     },
     "metadata": {
      "needs_background": "light"
     },
     "output_type": "display_data"
    }
   ],
   "source": [
    "#np.random.normal(mean, standard deviation, size)\n",
    "shoes = np.random.normal(10, 1, 1745643)\n",
    "\n",
    "plt.hist(shoes);"
   ]
  },
  {
   "cell_type": "markdown",
   "metadata": {},
   "source": [
    "### Uniform Distribution\n",
    "\n",
    "Events are independent, with each outcome having an equal chance of occurring.\n",
    "\n",
    "https://docs.scipy.org/doc/numpy-1.15.0/reference/generated/numpy.random.uniform.html#numpy.random.uniform\n",
    "\n",
    "Examples - rolling a die, picking a card\n",
    "\n",
    "#### Binomial Distribution \n",
    "\n",
    "https://www.mathsisfun.com/data/binomial-distribution.html\n",
    "https://docs.scipy.org/doc/numpy-1.15.0/reference/generated/numpy.random.binomial.html#numpy.random.binomial\n",
    "\n",
    "example - coin toss"
   ]
  },
  {
   "cell_type": "markdown",
   "metadata": {},
   "source": [
    "### Poisson Distribution\n",
    "\n",
    "Events are independent of each other. Average time between events is known, but the exact timing is random.\n",
    "\n",
    "https://docs.scipy.org/doc/numpy-1.15.0/reference/generated/numpy.random.poisson.html#numpy.random.poisson\n",
    "https://towardsdatascience.com/the-poisson-distribution-and-poisson-process-explained-4e2cb17d459\n",
    "\n",
    "Examples - tickets received, cars driving past"
   ]
  },
  {
   "cell_type": "markdown",
   "metadata": {},
   "source": [
    "### Exponential Distribution\n",
    "\n",
    "Fewer large values, but more smaller values\n",
    "\n",
    "https://docs.scipy.org/doc/numpy-1.15.0/reference/generated/numpy.random.exponential.html#numpy.random.exponential\n",
    "https://courses.lumenlearning.com/introstats1/chapter/the-exponential-distribution/\n",
    "\n",
    "examples - chat handle times, how long products last (e.g. how long until Keela loses a hair band)"
   ]
  },
  {
   "cell_type": "markdown",
   "metadata": {},
   "source": [
    "### Geometric Distribution\n",
    "\n",
    "The number of attempts until success. e.g. the number of times a die was rolled until you got a 6.\n",
    "\n",
    "https://minisham.redbrick.dcu.ie/CA/Notes/CA266/10_Geometric_Distribution.pdf\n",
    "https://docs.scipy.org/doc/numpy-1.15.0/reference/generated/numpy.random.geometric.html#numpy.random.geometric\n",
    "\n",
    "examples - number of tickets solved until a csat was completed, videogame loot boxes"
   ]
  },
  {
   "cell_type": "markdown",
   "metadata": {},
   "source": [
    "## Seeds and pseudorandom numbers"
   ]
  }
 ],
 "metadata": {
  "kernelspec": {
   "display_name": "Python 3",
   "language": "python",
   "name": "python3"
  },
  "language_info": {
   "codemirror_mode": {
    "name": "ipython",
    "version": 3
   },
   "file_extension": ".py",
   "mimetype": "text/x-python",
   "name": "python",
   "nbconvert_exporter": "python",
   "pygments_lexer": "ipython3",
   "version": "3.8.3"
  }
 },
 "nbformat": 4,
 "nbformat_minor": 4
}
